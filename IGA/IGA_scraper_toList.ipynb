{
 "cells": [
  {
   "cell_type": "code",
   "execution_count": null,
   "metadata": {},
   "outputs": [],
   "source": [
    "'''\n",
    "Importing relevant libraries for project.\n",
    "'''\n",
    "import pandas as pd\n",
    "import csv\n",
    "import time\n",
    "from selenium import webdriver\n",
    "from selenium.webdriver.common.keys import Keys\n",
    "from selenium.webdriver.common.by import By\n",
    "from selenium.webdriver.support.ui import WebDriverWait\n",
    "from selenium.webdriver.support.expected_conditions import presence_of_element_located\n",
    "from selenium.webdriver.support import expected_conditions as EC"
   ]
  },
  {
   "cell_type": "code",
   "execution_count": null,
   "metadata": {},
   "outputs": [],
   "source": [
    "'''\n",
    "Importing CSV file of valid postcodes as a list.\n",
    "'''\n",
    "path = 'C:/Users/coran.mulcahy/Documents/Coran_personal/git_repositories/Major_supermarket_brands_scraper/Postcodes/POA_2016_aust.csv'\n",
    "POA_2016 = open(path)\n",
    "valid_postcodes = csv.reader(POA_2016)\n",
    "\n",
    "for row in valid_postcodes:\n",
    "    valid_postcodes = row"
   ]
  },
  {
   "cell_type": "code",
   "execution_count": null,
   "metadata": {},
   "outputs": [],
   "source": []
  },
  {
   "cell_type": "code",
   "execution_count": null,
   "metadata": {
    "scrolled": true
   },
   "outputs": [],
   "source": [
    "print(valid_postcodes)"
   ]
  },
  {
   "cell_type": "code",
   "execution_count": null,
   "metadata": {},
   "outputs": [],
   "source": []
  },
  {
   "cell_type": "code",
   "execution_count": null,
   "metadata": {
    "scrolled": false
   },
   "outputs": [],
   "source": [
    "'''\n",
    "Creating a counter for number of iterations and an empty master dictionary for scraped IGA store data to be appended to later on.\n",
    "As well as a function for progress.\n",
    "'''\n",
    "counter = 0\n",
    "IGA_stores = [ ]\n",
    "\n",
    "def percent_progress():\n",
    "    progress = float(counter)/len(valid_postcodes)*100\n",
    "    return (f\"Progress: {round(progress,1)}%\")\n",
    "\n",
    "'''\n",
    "Selenium set up and navigation to IGA 'Store locator' website.\n",
    "'''\n",
    "browser = webdriver.Chrome()\n",
    "browser.get('https://www.iga.com.au/stores/#view=storelocator')\n",
    "\n",
    "'''\n",
    "Selenium is being used to simulate a user navigating through the IGA website and inputting postcodes into the search box.\n",
    "\n",
    "Selenium will:\n",
    "Navigate to the search box, clear text (if there is any) from the search box, input a postcode, wait for the suggestions box to load, press the down arrow\n",
    "key and then enter key to select the first suggestion of the dropdown list.\n",
    "      \n",
    "This code is within a for loop, to iterate through the list of valid Australian postcodes.\n",
    "'''\n",
    "for postcode in valid_postcodes:\n",
    "    \n",
    "    time.sleep(10)\n",
    "    \n",
    "    search_box = browser.find_element_by_id(\"sf-location-search\")\n",
    "    \n",
    "    search_box.clear()\n",
    "    search_box.send_keys(postcode)\n",
    "    search_box.click()\n",
    "    \n",
    "    time.sleep(5)\n",
    "        \n",
    "    '''\n",
    "    Postcode validation method. Testing if there are any dropdown suggestions loaded. If yes, proceed. If no, clear postcode from search box \n",
    "    and proceed to next postcode.\n",
    "    '''\n",
    "    dropdown_suggestions = browser.find_elements_by_xpath('.//div[@class = \"autocomplete-suggestion\"]')\n",
    "    \n",
    "    if len(dropdown_suggestions) > 0:\n",
    "        \n",
    "        search_box.send_keys(Keys.ARROW_DOWN)\n",
    "        search_box.send_keys(Keys.RETURN)\n",
    "        \n",
    "        time.sleep(10)\n",
    "\n",
    "        \"\"\"\n",
    "        Selenium will now scrape the store name and store address for each store in the search results. These resulting text is then cleaned\n",
    "        before being stored in lists.\n",
    "        \"\"\"\n",
    "        store_name = [ ]\n",
    "        store_address = [ ]\n",
    "        matched_stores = [ ]\n",
    "\n",
    "        for store in browser.find_elements_by_xpath('.//span[@class = \"sf-storename\"]'):\n",
    "            store_name.append(store.text)\n",
    "\n",
    "        for address in browser.find_elements_by_xpath('.//p[@class = \"sf-storeaddress\"]'):\n",
    "            store_address.append(address.text)\n",
    "\n",
    "        cleaned_store_address_list = [ ]\n",
    "\n",
    "        for store in store_address:\n",
    "            cleaned_store_address_list.append(store.replace('\\n' , ', '))\n",
    "\n",
    "        \"\"\"\n",
    "        Iterate through the two lists of store name and store address and add them to the master dictionary that we created earlier.\n",
    "        \"\"\"\n",
    "        for i in range(len(store_name)):\n",
    "            matched_stores.append(store_name[i])\n",
    "            matched_stores.append(cleaned_store_address_list[i])\n",
    "            IGA_stores.append(matched_stores)\n",
    "            matched_stores = [ ]\n",
    "\n",
    "        counter += 1\n",
    "        \n",
    "        print(f\"Stores for postcode {postcode} have been added ({percent_progress()})\")\n",
    "\n",
    "        \"\"\"\n",
    "        Now that all search results for this postcode have been extracted and stored, find and click on the change location button on the website, ready for \n",
    "        the next postcode to be input into the search box.\n",
    "        \"\"\"\n",
    "        change_location = browser.find_element_by_id(\"sf-location-change\")\n",
    "        change_location.click()\n",
    "            \n",
    "    else:\n",
    "        counter += 1\n",
    "        print(f\"No stores found for {postcode}, progressing to next postcode ({percent_progress()})\")\n",
    "        search_box.clear()\n",
    "        search_box.click()\n",
    "        "
   ]
  },
  {
   "cell_type": "code",
   "execution_count": null,
   "metadata": {},
   "outputs": [],
   "source": []
  },
  {
   "cell_type": "code",
   "execution_count": null,
   "metadata": {},
   "outputs": [],
   "source": [
    "IGA_stores"
   ]
  },
  {
   "cell_type": "code",
   "execution_count": null,
   "metadata": {},
   "outputs": [],
   "source": []
  },
  {
   "cell_type": "code",
   "execution_count": null,
   "metadata": {},
   "outputs": [],
   "source": [
    "# '''\n",
    "# Finally, take the fully populated master dictionary and output to a .csv file.\n",
    "# '''\n",
    "# (pd.DataFrame.from_dict(data = IGA_stores, orient = 'index').to_csv('scraped_Aus_IGA_stores_1.csv', header=False))"
   ]
  },
  {
   "cell_type": "code",
   "execution_count": null,
   "metadata": {},
   "outputs": [],
   "source": [
    "'''\n",
    "Finally, take the fully populated master list and output to a .csv file.\n",
    "'''\n",
    "df = pd.DataFrame( [[i[0], i[1]] for i in IGA_stores], columns = ['Name', 'Address'] )\n",
    "df.to_csv('scraped_Aus_IGA_stores_5.csv', index=False)"
   ]
  },
  {
   "cell_type": "code",
   "execution_count": null,
   "metadata": {},
   "outputs": [],
   "source": []
  },
  {
   "cell_type": "code",
   "execution_count": null,
   "metadata": {},
   "outputs": [],
   "source": []
  }
 ],
 "metadata": {
  "kernelspec": {
   "display_name": "Python 3",
   "language": "python",
   "name": "python3"
  },
  "language_info": {
   "codemirror_mode": {
    "name": "ipython",
    "version": 3
   },
   "file_extension": ".py",
   "mimetype": "text/x-python",
   "name": "python",
   "nbconvert_exporter": "python",
   "pygments_lexer": "ipython3",
   "version": "3.7.4"
  }
 },
 "nbformat": 4,
 "nbformat_minor": 2
}
