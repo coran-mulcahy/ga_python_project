{
 "cells": [
  {
   "cell_type": "code",
   "execution_count": 63,
   "metadata": {},
   "outputs": [
    {
     "ename": "NameError",
     "evalue": "name 'driver' is not defined",
     "output_type": "error",
     "traceback": [
      "\u001b[1;31m---------------------------------------------------------------------------\u001b[0m",
      "\u001b[1;31mNameError\u001b[0m                                 Traceback (most recent call last)",
      "\u001b[1;32m<ipython-input-63-ad0c9a213c39>\u001b[0m in \u001b[0;36m<module>\u001b[1;34m\u001b[0m\n\u001b[1;32m----> 1\u001b[1;33m \u001b[0mdriver\u001b[0m\u001b[1;33m.\u001b[0m\u001b[0mclose\u001b[0m\u001b[1;33m(\u001b[0m\u001b[1;33m)\u001b[0m\u001b[1;33m\u001b[0m\u001b[1;33m\u001b[0m\u001b[0m\n\u001b[0m",
      "\u001b[1;31mNameError\u001b[0m: name 'driver' is not defined"
     ]
    }
   ],
   "source": [
    "driver.close()"
   ]
  },
  {
   "cell_type": "code",
   "execution_count": 1,
   "metadata": {},
   "outputs": [
    {
     "name": "stdout",
     "output_type": "stream",
     "text": [
      "1\n",
      "2\n",
      "3\n",
      "4\n",
      "5\n",
      "6\n",
      "7\n"
     ]
    }
   ],
   "source": [
    "# IGA WEBSITE\n",
    "\n",
    "import requests\n",
    "from bs4 import BeautifulSoup\n",
    "import time\n",
    "from selenium import webdriver\n",
    "from selenium.webdriver.common.keys import Keys\n",
    "from selenium.webdriver.common.by import By\n",
    "from selenium.webdriver.support.ui import WebDriverWait\n",
    "from selenium.webdriver.support.expected_conditions import presence_of_element_located\n",
    "\n",
    "postcode = '3204'\n",
    "\n",
    "browser = webdriver.Chrome()\n",
    "browser.get('https://www.iga.com.au/stores/#view=storelocator')\n",
    "\n",
    "time.sleep(5)\n",
    "\n",
    "search_box = browser.find_element_by_id(\"sf-location-search\")\n",
    "print('1')\n",
    "search_box.clear()\n",
    "print('2')\n",
    "search_box.send_keys(postcode)\n",
    "print('3')\n",
    "search_box.click()\n",
    "time.sleep(3)\n",
    "\n",
    "search_box.send_keys(Keys.ARROW_DOWN)\n",
    "print('4')\n",
    "\n",
    "print('5')\n",
    "search_box.send_keys(Keys.RETURN)\n",
    "print('6')\n",
    "\n",
    "time.sleep(10)\n",
    "\n",
    "change_location = browser.find_element_by_id(\"sf-location-change\")\n",
    "change_location.click()\n",
    "print('7')\n",
    "\n",
    "# NOW THAT I'M AT THIS POINT. COUPLE OF QUESTIONS.\n",
    "# - should i keep using selenium? or now use scrapy or requests/beautifulsoup\n",
    "# how do i request the current url from python?\n",
    "\n",
    "#url = self.request.url\n",
    "#url\n",
    "#r = requests.get(url)\n",
    "#soup = BeautifulSoup(r.text, 'html.parser')\n",
    "\n",
    "\n",
    "\n",
    "# GET CURRENT URL = self.request.url\n"
   ]
  },
  {
   "cell_type": "code",
   "execution_count": null,
   "metadata": {},
   "outputs": [],
   "source": []
  }
 ],
 "metadata": {
  "kernelspec": {
   "display_name": "Python 3",
   "language": "python",
   "name": "python3"
  },
  "language_info": {
   "codemirror_mode": {
    "name": "ipython",
    "version": 3
   },
   "file_extension": ".py",
   "mimetype": "text/x-python",
   "name": "python",
   "nbconvert_exporter": "python",
   "pygments_lexer": "ipython3",
   "version": "3.7.4"
  }
 },
 "nbformat": 4,
 "nbformat_minor": 2
}
