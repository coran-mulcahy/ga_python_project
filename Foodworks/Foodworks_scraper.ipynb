{
 "cells": [
  {
   "cell_type": "code",
   "execution_count": null,
   "metadata": {},
   "outputs": [],
   "source": [
    "'''\n",
    "Importing relevant libraries for project.\n",
    "'''\n",
    "import pandas as pd\n",
    "import csv\n",
    "import time\n",
    "from selenium import webdriver\n",
    "from selenium.webdriver.common.keys import Keys\n",
    "from selenium.webdriver.common.by import By\n",
    "from selenium.webdriver.support.ui import WebDriverWait\n",
    "from selenium.webdriver.support.expected_conditions import presence_of_element_located\n",
    "from selenium.webdriver.support import expected_conditions as EC"
   ]
  },
  {
   "cell_type": "code",
   "execution_count": null,
   "metadata": {},
   "outputs": [],
   "source": [
    "'''\n",
    "Importing CSV file of valid postcodes as a list.\n",
    "'''\n",
    "path = 'C:/Users/coran.mulcahy/Documents/Coran_personal/git_repositories/ga_python_project/Postcodes/POA_2016_aust.csv'\n",
    "POA_2016 = open(path)\n",
    "valid_postcodes = csv.reader(POA_2016)\n",
    "\n",
    "for row in valid_postcodes:\n",
    "    valid_postcodes = row"
   ]
  },
  {
   "cell_type": "code",
   "execution_count": null,
   "metadata": {},
   "outputs": [],
   "source": []
  },
  {
   "cell_type": "code",
   "execution_count": null,
   "metadata": {
    "scrolled": true
   },
   "outputs": [],
   "source": [
    "print(valid_postcodes)"
   ]
  },
  {
   "cell_type": "code",
   "execution_count": null,
   "metadata": {},
   "outputs": [],
   "source": []
  },
  {
   "cell_type": "code",
   "execution_count": null,
   "metadata": {},
   "outputs": [],
   "source": [
    "\"\"\"\n",
    "Definition of functions for script\n",
    "\"\"\"\n",
    "\n",
    "def percent_progress():\n",
    "    progress = float(counter)/len(valid_postcodes)*100\n",
    "    return (f\"Progress: {round(progress,1)}%\")\n",
    "\n",
    "def dropdown_loop():\n",
    "    '''\n",
    "    The Foodworks website will only load one store at a time. So, when inputting every postcode, there is a chance that a Foodworks will be missed\n",
    "    if there is multiple Foodworks in the same postcode (eg. Fitzroy). This code, will create a list of all the dropdown suggestions and itrate through \n",
    "    them before moving on to the next postcode.\n",
    "    '''\n",
    "    dropdown_stores = [ ]\n",
    "\n",
    "    for dropdown in browser.find_elements_by_xpath(\".//div[@class='nav-search-result-item']\"):\n",
    "        dropdown_stores.append(dropdown.text)\n",
    "    '''\n",
    "    This loop does some text cleaning for input into search box (eg. \"Bentleigh - 3204\" becomes \"Bentleigh\" )\n",
    "    '''\n",
    "    dropdown_cleaned = [ ]\n",
    "\n",
    "    for dropdown in dropdown_stores:\n",
    "        dropdown_cleaned.append(dropdown[: -7])\n",
    "    '''\n",
    "    Take the suggested dropdown stores into the search box and scrape their addresses\n",
    "    '''\n",
    "    for dropdown in dropdown_cleaned:\n",
    "\n",
    "        search_box = browser.find_element_by_id(\"navigation_store_search\")\n",
    "        search_box.click()\n",
    "        search_box.clear()\n",
    "        search_box.send_keys(dropdown)\n",
    "\n",
    "        time.sleep(5)\n",
    "\n",
    "        new_dropdown = browser.find_element_by_xpath(\"//div[@class='nav-search-result-item']/span[1]\")\n",
    "        new_dropdown.click()\n",
    "\n",
    "        time.sleep(5)\n",
    "\n",
    "        \"\"\"\n",
    "        Selenium will now scrape the store name and store address for the searched store. The resulting text is then cleaned\n",
    "        before being stored in lists.\n",
    "        \"\"\"\n",
    "        store_name = [ ]\n",
    "        store_address = [ ]\n",
    "\n",
    "        for store in browser.find_elements_by_xpath('.//h1[@class = \"theme-heading theme-spacing-sm\"]'):\n",
    "            store_name.append(store.text)\n",
    "\n",
    "        for address in browser.find_elements_by_xpath('.//address[@class = \"theme-body theme-bold theme-spacing-sm\"]'):\n",
    "            store_address.append(address.text)\n",
    "\n",
    "        cleaned_store_address_list = [ ]\n",
    "        cleaned_store_name_list = [ ]\n",
    "\n",
    "        for store in store_address:\n",
    "            cleaned_store_address_list.append(store.replace('\\n' , ', '))\n",
    "\n",
    "        for store in store_name:\n",
    "            cleaned_store_name_list.append(store.replace('WELCOME TO FOODWORKS\\n' , 'Foodworks ').title())\n",
    "\n",
    "        \"\"\"\n",
    "        Iterate through the two lists of store name and store address and add them to the master dictionary that we created earlier.\n",
    "        \"\"\"\n",
    "        for i in range(len(store_name)):\n",
    "            foodworks_stores.update( {cleaned_store_name_list[i] : cleaned_store_address_list[i]} )\n",
    "\n",
    "        find_store_button = browser.find_element_by_class_name(\"nav-link\")\n",
    "        find_store_button.click()\n",
    "    \n"
   ]
  },
  {
   "cell_type": "code",
   "execution_count": null,
   "metadata": {},
   "outputs": [],
   "source": []
  },
  {
   "cell_type": "code",
   "execution_count": null,
   "metadata": {
    "scrolled": false
   },
   "outputs": [],
   "source": [
    "'''\n",
    "Creating a counter for number of iterations and an empty master dictionary for scraped Foodworks store data to be appended to later on.\n",
    "As well as a function for progress.\n",
    "'''\n",
    "counter = 0\n",
    "foodworks_stores = { }\n",
    "\n",
    "'''\n",
    "Selenium set up and navigation to Foodworks website.\n",
    "'''\n",
    "browser = webdriver.Chrome()\n",
    "browser.get('https://foodworks.com.au/')\n",
    "\n",
    "'''\n",
    "Selenium is being used to simulate a user navigating through the Foodworks website and inputting postcodes into the search box.\n",
    "\n",
    "Selenium will:\n",
    "Navigate to the search box, clear text (if there is any) from the search box, input a postcode, wait for the suggestions box to load, press the down arrow\n",
    "key and then enter key to select the first suggestion of the dropdown list.\n",
    "      \n",
    "This code is within a for loop, to iterate through the list of valid Australian postcodes.\n",
    "'''\n",
    "for postcode in valid_postcodes:\n",
    "    \n",
    "    time.sleep(5)\n",
    "    \n",
    "    find_store_button = browser.find_element_by_class_name(\"nav-link\")\n",
    "    find_store_button.click()\n",
    "    \n",
    "    time.sleep(5)\n",
    "    \n",
    "    search_box = browser.find_element_by_id(\"navigation_store_search\") \n",
    "    search_box.click()\n",
    "    search_box.send_keys(postcode)\n",
    "    \n",
    "    time.sleep(5)\n",
    "        \n",
    "    dropdown_suggestions = browser.find_elements_by_xpath(\"//div[@class='nav-search-result-item']/span\")\n",
    "    \n",
    "    if (dropdown_suggestions):   \n",
    "            \n",
    "        dropdown_loop()\n",
    "          \n",
    "        home_button = browser.find_element_by_class_name(\"navbar-brand\")\n",
    "        home_button.click()\n",
    "                            \n",
    "        counter += 1\n",
    "        print(f\"Store suggestions for postcode {postcode} have been added\")\n",
    "        print(f\"Progress: {percent_progress()}\")\n",
    "              \n",
    "    else:\n",
    "        counter += 1\n",
    "        print(f\"No stores found for {postcode}, progressing to next postcode ({percent_progress()})\")\n",
    "        search_box.click()\n",
    "        search_box.clear()\n",
    "        "
   ]
  },
  {
   "cell_type": "code",
   "execution_count": null,
   "metadata": {},
   "outputs": [],
   "source": []
  },
  {
   "cell_type": "code",
   "execution_count": null,
   "metadata": {},
   "outputs": [],
   "source": [
    "foodworks_stores"
   ]
  },
  {
   "cell_type": "code",
   "execution_count": null,
   "metadata": {},
   "outputs": [],
   "source": []
  },
  {
   "cell_type": "code",
   "execution_count": null,
   "metadata": {},
   "outputs": [],
   "source": [
    "'''\n",
    "Finally, take the fully populated master dictionary and output to a .csv file.\n",
    "'''\n",
    "(pd.DataFrame.from_dict(data = foodworks_stores, orient = 'index').to_csv('scraped_NSW_Foodworks_stores.csv', header=False))"
   ]
  },
  {
   "cell_type": "code",
   "execution_count": null,
   "metadata": {},
   "outputs": [],
   "source": []
  }
 ],
 "metadata": {
  "kernelspec": {
   "display_name": "Python 3",
   "language": "python",
   "name": "python3"
  },
  "language_info": {
   "codemirror_mode": {
    "name": "ipython",
    "version": 3
   },
   "file_extension": ".py",
   "mimetype": "text/x-python",
   "name": "python",
   "nbconvert_exporter": "python",
   "pygments_lexer": "ipython3",
   "version": "3.7.4"
  }
 },
 "nbformat": 4,
 "nbformat_minor": 2
}
